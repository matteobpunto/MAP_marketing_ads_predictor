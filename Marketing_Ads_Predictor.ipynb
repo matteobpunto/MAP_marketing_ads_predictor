{
  "nbformat": 4,
  "nbformat_minor": 0,
  "metadata": {
    "colab": {
      "provenance": [],
      "authorship_tag": "ABX9TyM2ebNKytQ0P4UrHFE26/gD",
      "include_colab_link": true
    },
    "kernelspec": {
      "name": "python3",
      "display_name": "Python 3"
    },
    "language_info": {
      "name": "python"
    }
  },
  "cells": [
    {
      "cell_type": "markdown",
      "metadata": {
        "id": "view-in-github",
        "colab_type": "text"
      },
      "source": [
        "<a href=\"https://colab.research.google.com/github/matteobpunto/MAP_marketing_ads_predictor/blob/main/Marketing_Ads_Predictor.ipynb\" target=\"_parent\"><img src=\"https://colab.research.google.com/assets/colab-badge.svg\" alt=\"Open In Colab\"/></a>"
      ]
    },
    {
      "cell_type": "markdown",
      "source": [
        "# 📊 MAP - Marketing ADS Predictor\n",
        "\n"
      ],
      "metadata": {
        "id": "dpG-Zu64zG__"
      }
    },
    {
      "cell_type": "markdown",
      "source": [
        "MAP is an educational project made for Zurich x Generation that analyzes and predict campaign sales using different types of media.\n",
        "This tool is designed to help businesses optimize their advertising investments by leveraging machine learning techniques.\n"
      ],
      "metadata": {
        "id": "nhbfYtFKzGnP"
      }
    },
    {
      "cell_type": "markdown",
      "source": [
        "# Project request"
      ],
      "metadata": {
        "id": "IB9sqjQ43upz"
      }
    },
    {
      "cell_type": "markdown",
      "source": [
        "\n",
        "*> The project requires the analysis of a dataset (Advertising_modified.csv) containing information on investments in advertising campaigns, categorized into TV, Radio, and Newspaper campaigns. The goal of the project is to identify potential correlations between the different campaigns, determine which marketing strategies (TV, Radio, and/or Newspaper) lead to the highest sales increase, and develop a machine learning algorithm based on regression to predict sales projections based on a given investment in one or more of these strategies. Finally, the project should bedocumented by creating a report using a Python notebook (.ipynb).*\n",
        "\n",
        "📂 You can read and check the .csv file [at this link](https://drive.google.com/file/d/1Wc-Sd3K2FjpfbUFHPabOoDTl2PM1fEco/view)"
      ],
      "metadata": {
        "id": "EnmRsg004K1C"
      }
    },
    {
      "cell_type": "markdown",
      "source": [
        "# **Installation**"
      ],
      "metadata": {
        "id": "TQlXZ_sV41Ca"
      }
    },
    {
      "cell_type": "markdown",
      "source": [
        "To install MAP and run the program, you can use your bash console:\n",
        "\n",
        "\n",
        "```\n",
        "# git clone https://github.com/matteobpunto/MAP_marketing_ads_predictor.git  \n",
        "cd MAP_marketing_ads_predictor  \n",
        "pip install -r requirements.txt  \n",
        "python main.py\n",
        "\n",
        "```\n",
        "\n"
      ],
      "metadata": {
        "id": "F1KWsTlb5M4S"
      }
    },
    {
      "cell_type": "markdown",
      "source": [
        "# **Program languages and utility tools**"
      ],
      "metadata": {
        "id": "L4Yv2iHM5jgR"
      }
    },
    {
      "cell_type": "markdown",
      "source": [
        "🐍 Python as main program language (to extend, we used powerful libraries such as [pandas](https://pandas.pydata.org/) and [matplotlib](https://matplotlib.org/) for data visualization) for various queries;\n",
        "\n",
        "🐒 MongoDB as non-relational database platform (this was used only for an educational purpose);\n",
        "\n",
        "🐳 MySQL (in particular, MariaDB) as relational database platform to manage different datasets."
      ],
      "metadata": {
        "id": "KDY13Gs05ozR"
      }
    },
    {
      "cell_type": "markdown",
      "source": [
        "# **How it works**"
      ],
      "metadata": {
        "id": "6yEsFa0B6ClA"
      }
    },
    {
      "cell_type": "markdown",
      "source": [
        "🖥️ MAP is a standalone application built using Python as program language, one of the best tool for its flexibility, spreadability and simplicity as well.\n",
        "Using MAP you will be able to show how your investments in advertising will be perceived by your audience according to previous results.\n",
        "\n",
        "# Data Cleaning 🧹\n",
        "\n",
        "A Python script for data cleaning is available in the 'data_cleaning' directory. This script removes null values from the dataset, ensuring data consistency before analysis and model training\n",
        "\n",
        "# Machine Learning 🤖\n",
        "\n",
        "We implemented a regression-based Machine Learning model to predict sales outcomes based on advertising investments. The model was trained using [scikit-learn](https://scikit-learn.org/stable/)\n",
        "\n",
        "# Power BI 📊\n",
        "\n",
        "We developed a Power BI dashboard to provide interactive data visualization and insights. The dashboard includes:\n",
        "\n",
        "\n",
        "*   Sales trend analysis 📈\n",
        "*   Correlation between investments and revenue 🔄\n",
        "*   Predictive analysis based on the trained Machine Learning model🔮\n",
        "\n",
        "# Website development 🌐\n",
        "\n",
        "A web-based interface was created to make MAP more accessible and user-friendly. The website was built using Flask (backend) and HTML/CSS (frontend), allowing users to:\n",
        "\n",
        "\n",
        "\n",
        "*   Upload their own advertising investment data 📤\n",
        "*   View dynamic visualizations 🎨\n",
        "*   Access Machine Learning predictions in real-time ⏳\n",
        "\n",
        "\n"
      ],
      "metadata": {
        "id": "FHWNX84K6KOJ"
      }
    },
    {
      "cell_type": "markdown",
      "source": [
        "# **Notebook Navigation**"
      ],
      "metadata": {
        "id": "XdRGGHiH-0XE"
      }
    },
    {
      "cell_type": "markdown",
      "source": [
        "*   [Create a MySQL database to store advertising campaign data](https://colab.research.google.com/drive/1Co8Yg6qGG9unoN3Bj0cmwLZO3bNJnmT0#scrollTo=bhOA0njMuDYZ)\n",
        "*   Insert and manage datasets efficiently ([Company Insertion](https://colab.research.google.com/drive/1Co8Yg6qGG9unoN3Bj0cmwLZO3bNJnmT0#scrollTo=Dwe2QIcit7xy), [Marketing Insertion](https://colab.research.google.com/drive/1Co8Yg6qGG9unoN3Bj0cmwLZO3bNJnmT0#scrollTo=3pqcFW0FvUPA), [Slot Insertion](https://colab.research.google.com/drive/1Co8Yg6qGG9unoN3Bj0cmwLZO3bNJnmT0#scrollTo=BkJDax2yvjLf), [Target Insertion](https://colab.research.google.com/drive/1Co8Yg6qGG9unoN3Bj0cmwLZO3bNJnmT0#scrollTo=gxLTaNkzwNHW), [Broadcoaster Insertion](https://colab.research.google.com/drive/1Co8Yg6qGG9unoN3Bj0cmwLZO3bNJnmT0#scrollTo=IbGMHUz1wp0n), [Type Insertion](https://colab.research.google.com/drive/1Co8Yg6qGG9unoN3Bj0cmwLZO3bNJnmT0#scrollTo=OlNIGLtHxC_N), [TV Marketing Insertion](https://colab.research.google.com/drive/1Co8Yg6qGG9unoN3Bj0cmwLZO3bNJnmT0#scrollTo=Z3_2qSTdxlwV))\n",
        "*   Perform SQL queries for data retrieval and analysis (C.R.U.D. operations)\n",
        "\n",
        "\n",
        "\n"
      ],
      "metadata": {
        "id": "erCmXqOU_Dfk"
      }
    },
    {
      "cell_type": "markdown",
      "source": [
        "# **DATABASE CREATION**"
      ],
      "metadata": {
        "id": "bhOA0njMuDYZ"
      }
    },
    {
      "cell_type": "code",
      "execution_count": null,
      "metadata": {
        "id": "HiFqV5nUtx7-"
      },
      "outputs": [],
      "source": [
        "import mysql.connector\n",
        "import csv\n",
        "\n",
        "# Connect to the MySQL server\n",
        "conn = mysql.connector.connect(\n",
        "    host=\"localhost\",\n",
        "    user=\"root\",\n",
        "    password=\"\"\n",
        ")\n",
        "\n",
        "cursor = conn.cursor()\n",
        "\n",
        "# Create SQL database\n",
        "cursor.execute(\"CREATE DATABASE IF NOT EXISTS marketing_adv\")\n",
        "\n",
        "cursor.execute(\"USE marketing_adv\")\n",
        "\n",
        "cursor.execute(\"\"\"\n",
        "CREATE TABLE IF NOT EXISTS company (\n",
        "    company_id INT PRIMARY KEY AUTO_INCREMENT,\n",
        "    name VARCHAR(50),\n",
        "    office VARCHAR(50),\n",
        "    n_employees INT\n",
        ");\n",
        "\"\"\")\n",
        "\n",
        "cursor.execute(\"\"\"\n",
        "CREATE TABLE IF NOT EXISTS marketing (\n",
        "    marketing_id INT PRIMARY KEY AUTO_INCREMENT,\n",
        "    tv FLOAT,\n",
        "    radio FLOAT,\n",
        "    newspaper FLOAT,\n",
        "    sales FLOAT,\n",
        "    company_id INT,\n",
        "    FOREIGN KEY (company_id) REFERENCES company(company_id)\n",
        ");\n",
        "\"\"\")\n",
        "\n",
        "cursor.execute(\"\"\"\n",
        "CREATE TABLE IF NOT EXISTS type (\n",
        "    type_id INT PRIMARY KEY AUTO_INCREMENT,\n",
        "    spot BOOL,\n",
        "    inspot BOOL,\n",
        "    teleshopping BOOL,\n",
        "    videoclip BOOL,\n",
        "    trailer BOOL\n",
        "    );\n",
        "\"\"\")\n",
        "\n",
        "cursor.execute(\"\"\"\n",
        "CREATE TABLE IF NOT EXISTS slot (\n",
        "    slot_id INT PRIMARY KEY AUTO_INCREMENT,\n",
        "    time_slot VARCHAR(20)\n",
        "    );\n",
        "\"\"\")\n",
        "\n",
        "cursor.execute(\"\"\"\n",
        "CREATE TABLE IF NOT EXISTS broadcaster (\n",
        "    broadcaster_id INT PRIMARY KEY AUTO_INCREMENT,\n",
        "    name VARCHAR(50),\n",
        "    network VARCHAR(50)\n",
        "    );\n",
        "\"\"\")\n",
        "\n",
        "cursor.execute(\"\"\"\n",
        "CREATE TABLE IF NOT EXISTS target (\n",
        "    target_id INT PRIMARY KEY AUTO_INCREMENT,\n",
        "    age_range VARCHAR(20) NOT NULL\n",
        "    );\n",
        "\"\"\")\n",
        "\n",
        "cursor.execute(\"\"\"\n",
        "CREATE TABLE IF NOT EXISTS marketing_tv (\n",
        "    tv_id INT PRIMARY KEY,\n",
        "    marketing_id INT,\n",
        "    type_id INT,\n",
        "    slot_id INT,\n",
        "    broadcaster_id INT,\n",
        "    target_id INT,\n",
        "    FOREIGN KEY (type_id) REFERENCES type(type_id),\n",
        "    FOREIGN KEY (slot_id) REFERENCES slot(slot_id),\n",
        "    FOREIGN KEY (broadcaster_id) REFERENCES broadcaster(broadcaster_id),\n",
        "    FOREIGN KEY (target_id) REFERENCES target(target_id),\n",
        "    FOREIGN KEY (marketing_id) REFERENCES marketing(marketing_id)\n",
        ");\n",
        "\"\"\")"
      ]
    },
    {
      "cell_type": "markdown",
      "source": [
        "# ***COMPANY INSERTION***"
      ],
      "metadata": {
        "id": "Dwe2QIcit7xy"
      }
    },
    {
      "cell_type": "code",
      "source": [
        "import csv\n",
        "import mysql.connector\n",
        "\n",
        "# Connect to the MySQL server\n",
        "conn = mysql.connector.connect(\n",
        "    host=\"localhost\",\n",
        "    user=\"root\",\n",
        "    password=\"\"\n",
        ")\n",
        "\n",
        "cursor = conn.cursor()\n",
        "\n",
        "cursor.execute(\"USE marketing_adv\")\n",
        "\n",
        "\n",
        "with open('Aziende_Italiane.csv', encoding='utf-8') as f:\n",
        "    lettore = csv.reader(f, delimiter=',')\n",
        "    f.readline()\n",
        "\n",
        "    lista_prova = []\n",
        "    for riga in lettore:\n",
        "\n",
        "        query = f\"INSERT INTO company (name, office, n_employees) VALUES ('{riga[0]}','{riga[1]}', {riga[2]})\"\n",
        "        print(query)\n",
        "\n",
        "        cursor.execute(query)\n",
        "\n",
        "        lista_prova.append(query)\n",
        "\n",
        "\n",
        "conn.commit()\n",
        "\n",
        "print(\"The company data has been succesfully inserted!\")\n",
        "print(lista_prova)\n",
        "\n",
        "cursor.close()\n",
        "conn.close()"
      ],
      "metadata": {
        "id": "X97tH9RAvSB4"
      },
      "execution_count": null,
      "outputs": []
    },
    {
      "cell_type": "markdown",
      "source": [
        "# **MARKETING INSERTION**"
      ],
      "metadata": {
        "id": "3pqcFW0FvUPA"
      }
    },
    {
      "cell_type": "code",
      "source": [
        "import csv\n",
        "import mysql.connector\n",
        "import random\n",
        "\n",
        "# Connect to the MySQL server\n",
        "conn = mysql.connector.connect(\n",
        "    host=\"localhost\",\n",
        "    user=\"root\",\n",
        "    password=\"\",\n",
        "    database=\"marketing_adv\"  # Set the database directly in the connection\n",
        ")\n",
        "\n",
        "cursor = conn.cursor()\n",
        "\n",
        "# Get all available company_id values from the company table\n",
        "cursor.execute(\"SELECT company_id FROM company\")\n",
        "company_ids = cursor.fetchall()\n",
        "for row in company_ids:\n",
        "    company_id = row[0]\n",
        "\n",
        "\n",
        "# Open the CSV file\n",
        "with open('Advertising_clear.csv', encoding='utf-8') as f:\n",
        "    reader = csv.reader(f, delimiter=',')\n",
        "    f.readline()\n",
        "\n",
        "    query = \"\"\"\n",
        "    INSERT INTO marketing (tv, radio, newspaper, sales, company_id)\n",
        "    VALUES (%s, %s, %s, %s, %s)\n",
        "    \"\"\"\n",
        "\n",
        "    data_to_insert = []\n",
        "    for row in reader:\n",
        "        tv = float(row[0])\n",
        "        radio = float(row[1])\n",
        "        newspaper = float(row[2])\n",
        "        sales = float(row[3])\n",
        "        company_id = random.choice(company_ids)[0]\n",
        "\n",
        "        data_to_insert.append((tv, radio, newspaper, sales, company_id))\n",
        "\n",
        "    cursor.executemany(query, data_to_insert)\n",
        "    conn.commit()\n",
        "print(\"Marketing data has been successfully inserted!\")\n",
        "\n",
        "# Close the cursor and connection\n",
        "cursor.close()\n",
        "conn.close()"
      ],
      "metadata": {
        "id": "QLOtCPHsvbRg"
      },
      "execution_count": null,
      "outputs": []
    },
    {
      "cell_type": "markdown",
      "source": [
        "# **SLOT INSERTION**"
      ],
      "metadata": {
        "id": "BkJDax2yvjLf"
      }
    },
    {
      "cell_type": "code",
      "source": [
        "import mysql.connector\n",
        "\n",
        "# Connect to the database\n",
        "conn = mysql.connector.connect(\n",
        "    host=\"localhost\",\n",
        "    user=\"root\",\n",
        "    password=\"\",\n",
        "    database=\"marketing_adv\"\n",
        ")\n",
        "\n",
        "cursor = conn.cursor()\n",
        "\n",
        "# Define time slots\n",
        "time_slots = [\n",
        "    ('00:00', '04:00', '04:00', '08:00', '08:00', '12:00', '12:00', '16:00', '16:00', '20:00', '20:00', '00:00')\n",
        "]\n",
        "\n",
        "# SQL query to insert data\n",
        "query = \"\"\"\n",
        "INSERT INTO slot (slot1_start, slot1_end, slot2_start, slot2_end,\n",
        "                  slot3_start, slot3_end, slot4_start, slot4_end,\n",
        "                  slot5_start, slot5_end, slot6_start, slot6_end)\n",
        "VALUES (%s, %s, %s, %s, %s, %s, %s, %s, %s, %s, %s, %s)\n",
        "\"\"\"\n",
        "\n",
        "# Execute the query\n",
        "cursor.executemany(query, time_slots)\n",
        "\n",
        "# Commit the transaction\n",
        "conn.commit()\n",
        "\n",
        "print(\"Time slot data has been successfully inserted!\")\n",
        "\n",
        "# Close the cursor and connection\n",
        "cursor.close()\n",
        "conn.close()"
      ],
      "metadata": {
        "id": "yJWWyZ4LwBy3"
      },
      "execution_count": null,
      "outputs": []
    },
    {
      "cell_type": "markdown",
      "source": [
        "# **TARGET INSERTION**"
      ],
      "metadata": {
        "id": "gxLTaNkzwNHW"
      }
    },
    {
      "cell_type": "code",
      "source": [
        "import mysql.connector\n",
        "\n",
        "# Connect to the database\n",
        "conn = mysql.connector.connect(\n",
        "    host=\"localhost\",\n",
        "    user=\"root\",\n",
        "    password=\"\",\n",
        "    database=\"marketing_adv\"\n",
        ")\n",
        "\n",
        "cursor = conn.cursor()\n",
        "\n",
        "# SQL query to insert data into the 'target' table\n",
        "query = \"INSERT INTO target (age_range) VALUES (%s)\"\n",
        "values = [\n",
        "    ('under 18',),\n",
        "    ('18 - 25',),\n",
        "    ('25 - 40',),\n",
        "    ('40 - 60',),\n",
        "    ('over 60',)\n",
        "]\n",
        "\n",
        "\n",
        "cursor.executemany(query, values)\n",
        "\n",
        "# Commit the changes to the database\n",
        "conn.commit()\n",
        "\n",
        "print(\"Target data has been succesfully inserted!\")\n",
        "\n",
        "# Close the cursor and connection\n",
        "cursor.close()\n",
        "conn.close()"
      ],
      "metadata": {
        "id": "BQVES25SwV2G"
      },
      "execution_count": null,
      "outputs": []
    },
    {
      "cell_type": "markdown",
      "source": [
        "# **BROADCOASTER INSERTION**"
      ],
      "metadata": {
        "id": "IbGMHUz1wp0n"
      }
    },
    {
      "cell_type": "code",
      "source": [
        "import csv\n",
        "import mysql.connector\n",
        "\n",
        "# Connect to the MySQL server\n",
        "conn = mysql.connector.connect(\n",
        "    host=\"localhost\",\n",
        "    user=\"root\",\n",
        "    password=\"\"\n",
        ")\n",
        "\n",
        "cursor = conn.cursor()\n",
        "\n",
        "cursor.execute(\"USE marketing_adv\")\n",
        "\n",
        "\n",
        "with open('../../../Downloads/Reti_Televisive_Italiane_Uniche.csv', encoding='utf-8') as f:\n",
        "    lettore = csv.reader(f, delimiter=',')\n",
        "    f.readline()\n",
        "\n",
        "    lista_prova = []\n",
        "    for riga in lettore:\n",
        "\n",
        "        query = f\"INSERT INTO broadcaster (name, network) VALUES ('{riga[0]}','{riga[1]}')\"\n",
        "        print(query)\n",
        "\n",
        "        cursor.execute(query)\n",
        "\n",
        "        lista_prova.append(query)\n",
        "\n",
        "\n",
        "conn.commit()\n",
        "\n",
        "print(\"Broadcoaster`s data has been successfully inserted!\")\n",
        "print(lista_prova)\n",
        "\n",
        "cursor.close()\n",
        "conn.close()"
      ],
      "metadata": {
        "id": "ekurw-KQw9u2"
      },
      "execution_count": null,
      "outputs": []
    },
    {
      "cell_type": "markdown",
      "source": [
        "# **TYPE INSERTION**"
      ],
      "metadata": {
        "id": "OlNIGLtHxC_N"
      }
    },
    {
      "cell_type": "code",
      "source": [
        "import csv\n",
        "import mysql.connector\n",
        "import random\n",
        "from mysql.connector import Error\n",
        "\n",
        "def recupera_dati_lista_int(query):\n",
        "    try:\n",
        "        # Conection to the database\n",
        "        connection = mysql.connector.connect(\n",
        "            host=\"localhost\",\n",
        "            user=\"root\",\n",
        "            password=\"\",\n",
        "            database=\"marketing_adv\"\n",
        "        )\n",
        "        if connection.is_connected():\n",
        "            cursor = connection.cursor()  # Returns results as dictionaries\n",
        "\n",
        "            # Execution of the query\n",
        "            cursor.execute(query)\n",
        "\n",
        "            # Dataa retrival\n",
        "            result = [elem[0] for elem in cursor.fetchall()]\n",
        "\n",
        "            cursor.close()\n",
        "            return result\n",
        "    except Error as e:\n",
        "        print(f\"Error while executing the query: {e}\")\n",
        "        return None\n",
        "    finally:\n",
        "        if connection.is_connected():\n",
        "            connection.close()\n",
        "\n",
        "# Connection to the MySQL server\n",
        "conn = mysql.connector.connect(\n",
        "    host=\"localhost\",\n",
        "    user=\"root\",\n",
        "    password=\"\"\n",
        ")\n",
        "\n",
        "cursor = conn.cursor()\n",
        "\n",
        "cursor.execute(\"USE marketing_adv\")\n",
        "\n",
        "lista_bool = [True, False]\n",
        "lista_tipi = [\"spot\", \"inspot\", \"teleshopping\", \"videoclip\", \"trailer\"]\n",
        "\n",
        "tipo_scelto = random.choice(lista_tipi)\n",
        "indice = lista_tipi.index(tipo_scelto)\n",
        "\n",
        "colonne = recupera_dati_lista_int(\"SELECT COUNT(*) FROM marketing\")\n",
        "\n",
        "for _ in range(189):\n",
        "    stringa = ''\n",
        "\n",
        "    for x in range(len(lista_tipi)):\n",
        "        if x == indice:\n",
        "            stringa += 'TRUE'\n",
        "        else:\n",
        "            stringa += 'FALSE'\n",
        "\n",
        "        if x != len(lista_tipi) - 1:\n",
        "            stringa += ', '\n",
        "\n",
        "    query = (f\"INSERT INTO type(`spot`, `inspot`, `teleshopping`, `videoclip`, `trailer`)\"\n",
        "             f\" VALUES ({stringa})\")\n",
        "\n",
        "    cursor.execute(query)\n",
        "    conn.commit()\n",
        "\n",
        "    print(\"Type data has been succesfully inserted!\")\n",
        "\n",
        "\n",
        "    cursor.close()\n",
        "    conn.close()"
      ],
      "metadata": {
        "id": "uRb2h73jxiJl"
      },
      "execution_count": null,
      "outputs": []
    },
    {
      "cell_type": "markdown",
      "source": [
        "# **TV MARKETING INSERTION**"
      ],
      "metadata": {
        "id": "Z3_2qSTdxlwV"
      }
    },
    {
      "cell_type": "code",
      "source": [
        "# Importing the libraries we'll use\n",
        "\n",
        "import mysql.connector\n",
        "import random\n",
        "from marketing_ads_predictor.database2.insert_type import recupera_dati_lista_int\n",
        "\n",
        "# Connection to the mySQL server\n",
        "conn = mysql.connector.connect(\n",
        "    host=\"localhost\",\n",
        "    user=\"root\",\n",
        "    password=\"\"\n",
        ")\n",
        "\n",
        "# Creation of a cursor to navigate our database\n",
        "cursor = conn.cursor()\n",
        "\n",
        "# Selecting the right database\n",
        "cursor.execute(\"USE marketing_adv\")\n",
        "\n",
        "# Using the mySQL language for the insert of marketing values\n",
        "\n",
        "insertInto = (\"INSERT INTO `marketing_tv`(`marketing_id`, `type_id`, `slot_id`, `broadcaster_id`, `target_id`)\"\n",
        "              \" VALUES ('[value-2]','[value-3]','[value-4]','[value-5]','[value-6]')\")\n",
        "\n",
        "# Taking all the marketing id`s from marketing and order them by their id\n",
        "cursor.execute(\"SELECT marketing_id FROM marketing ORDER BY `marketing`.`marketing_id` ASC\")\n",
        "Marketing_list_id = cursor.fetchall()\n",
        "print(type(Marketing_list_id))\n",
        "print(Marketing_list_id)\n",
        "\n",
        "# Creating dictionaries for age groups and percentages of their weight\n",
        "age_groups = {\n",
        "    1: \"under 18\",\n",
        "    2: \"18 - 25\",\n",
        "    3: \"25 - 40\",\n",
        "    4: \"40 - 60\",\n",
        "    5: \"over 60\"\n",
        "}\n",
        "\n",
        "percentages = {\n",
        "    1: 30,  # 10% under 18\n",
        "    2: 5,  # 20% 18-25\n",
        "    3: 15,  # 25% 25-40\n",
        "    4: 20,  # 15% 40-60\n",
        "    5: 30  # 30% over 60\n",
        "}\n",
        "\n",
        "# Counting all data from marketing and converting them into percentages\n",
        "num_samples = 189\n",
        "weights = [percentages[key] / 100 for key in age_groups]\n",
        "\n",
        "# Creating a random list using random function to determine the percentages\n",
        "random_list = random.choices(list(age_groups.keys()), weights=weights, k=num_samples)\n",
        "\n",
        "print(random_list)\n",
        "print(len(random_list))\n",
        "\n",
        "# Creating dictionaries for time slot and a dictionary\n",
        "time_slots = {\n",
        "    \"18 - 25\": [\"00:00 - 04:00\"],\n",
        "    \"25 - 40\": [\"04:00 - 08:00\"],\n",
        "    \"over 60\": [\"08:00 - 12:00\"],\n",
        "    \"under 18\": [\"12:00 - 16:00\", \"16:00 - 20:00\"],\n",
        "    \"40 - 60\": [\"20:00 - 00:00\"]\n",
        "}\n",
        "\n",
        "Slot_dictionary = {\n",
        "    \"00:00 - 04:00\": 1,\n",
        "    \"04:00 - 08:00\": 2,\n",
        "    \"08:00 - 12:00\": 3,\n",
        "    \"12:00 - 16:00\": 4,\n",
        "    \"16:00 - 20:00\": 5,\n",
        "    \"20:00 - 00:00\": 6\n",
        "}\n",
        "\n",
        "valuesInsertInto = \"\"\n",
        "row_count = 0\n",
        "for i, num in enumerate(random_list):\n",
        "    # id taken from marketing table\n",
        "    marketingID = i + 1\n",
        "    # id taken from type table\n",
        "    typeID = i + 1\n",
        "\n",
        "    # id target table taken from list made with the weighted percentages\n",
        "    targetID = num\n",
        "    print(marketingID)\n",
        "    print(num)\n",
        "    targetinstringa = age_groups.get(targetID)\n",
        "    slot = time_slots.get(targetinstringa)\n",
        "    slotgiusto = random.choice(slot)\n",
        "    slotID = Slot_dictionary.get(slotgiusto)\n",
        "    broadcasterID = random.randint(1, 10)\n",
        "\n",
        "    valuesInsertInto = f\"{marketingID}, {typeID}, {slotID}, {broadcasterID}, {targetID}\"\n",
        "\n",
        "    query = f\"\"\"INSERT INTO `marketing_tv`(`marketing_id`, `type_id`, `slot_id`, `broadcaster_id`, `target_id`)\n",
        "               VALUES ({valuesInsertInto})\"\"\"\n",
        "\n",
        "    cursor.execute(query)\n",
        "    row_count += 1\n",
        "\n",
        "# Commit of the modifications\n",
        "conn.commit()\n",
        "\n",
        "print(f\"{row_count} rows have been succesfully inserted!\")\n",
        "\n",
        "# Connection closed\n",
        "cursor.close()\n",
        "conn.close()"
      ],
      "metadata": {
        "id": "w2CR3jCVx2mW"
      },
      "execution_count": null,
      "outputs": []
    }
  ]
}